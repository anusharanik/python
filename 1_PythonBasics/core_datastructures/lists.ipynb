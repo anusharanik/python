{
 "cells": [
  {
   "cell_type": "code",
   "execution_count": 1,
   "id": "f16c50cf",
   "metadata": {},
   "outputs": [
    {
     "name": "stdout",
     "output_type": "stream",
     "text": [
      "<class 'list'>\n"
     ]
    }
   ],
   "source": [
    "lst=[]\n",
    "print(type(lst))\n"
   ]
  },
  {
   "cell_type": "code",
   "execution_count": 2,
   "id": "7f04c5b5",
   "metadata": {},
   "outputs": [
    {
     "name": "stdout",
     "output_type": "stream",
     "text": [
      "['apple', 'banana', 'cherry', 'pomegranate']\n"
     ]
    }
   ],
   "source": [
    "names=[\"apple\",\"banana\",\"cherry\",\"pomegranate\"]\n",
    "print(names)"
   ]
  },
  {
   "cell_type": "code",
   "execution_count": 10,
   "id": "57fa9e83",
   "metadata": {},
   "outputs": [
    {
     "name": "stdout",
     "output_type": "stream",
     "text": [
      "[1, 'banana', True, 3.4]\n",
      "1\n",
      "3.4\n",
      "3.4\n",
      "banana\n"
     ]
    }
   ],
   "source": [
    "mixed_list=[1,\"banana\",True,3.4]\n",
    "print(mixed_list)\n",
    "print(mixed_list[0])\n",
    "print(mixed_list[3])\n",
    "print(mixed_list[-1])\n",
    "print(mixed_list[-3])"
   ]
  },
  {
   "cell_type": "code",
   "execution_count": 12,
   "id": "4e0be22c",
   "metadata": {},
   "outputs": [
    {
     "name": "stdout",
     "output_type": "stream",
     "text": [
      "[1, 'banana', True, 3.4]\n"
     ]
    }
   ],
   "source": [
    "print(mixed_list[0:])"
   ]
  },
  {
   "cell_type": "code",
   "execution_count": 20,
   "id": "ae001e93",
   "metadata": {},
   "outputs": [
    {
     "name": "stdout",
     "output_type": "stream",
     "text": [
      "[1, 'banana', True, 3.4]\n"
     ]
    }
   ],
   "source": [
    "print(mixed_list[-4:])"
   ]
  },
  {
   "cell_type": "code",
   "execution_count": 21,
   "id": "0b936444",
   "metadata": {},
   "outputs": [
    {
     "name": "stdout",
     "output_type": "stream",
     "text": [
      "[1, 'banana', True, 3.4, 'orange']\n"
     ]
    }
   ],
   "source": [
    "mixed_list.append(\"orange\")\n",
    "print(mixed_list)"
   ]
  },
  {
   "cell_type": "code",
   "execution_count": 23,
   "id": "f23b3ebe",
   "metadata": {},
   "outputs": [
    {
     "name": "stdout",
     "output_type": "stream",
     "text": [
      "['banana', True, 3.4, 'orange']\n"
     ]
    }
   ],
   "source": [
    "mixed_list.remove(1)\n",
    "print(mixed_list)"
   ]
  },
  {
   "cell_type": "code",
   "execution_count": 25,
   "id": "3bf9a18c",
   "metadata": {},
   "outputs": [
    {
     "name": "stdout",
     "output_type": "stream",
     "text": [
      "['orange', 3.4, True, 'banana']\n"
     ]
    }
   ],
   "source": [
    "mixed_list.reverse()\n",
    "print(mixed_list)"
   ]
  },
  {
   "cell_type": "code",
   "execution_count": 27,
   "id": "86f33bda",
   "metadata": {},
   "outputs": [
    {
     "name": "stdout",
     "output_type": "stream",
     "text": [
      "0 1\n",
      "1 2\n",
      "2 3\n",
      "3 4\n",
      "4 5\n",
      "5 6\n",
      "6 7\n",
      "7 8\n",
      "8 9\n",
      "9 10\n"
     ]
    }
   ],
   "source": [
    "#iterating with index\n",
    "numbers=[1,2,3,4,5,6,7,8,9,10]\n",
    "for index, number in enumerate(numbers):\n",
    "    print(index,number)"
   ]
  },
  {
   "cell_type": "code",
   "execution_count": null,
   "id": "04c3228a",
   "metadata": {},
   "outputs": [
    {
     "name": "stdout",
     "output_type": "stream",
     "text": [
      "[0, 1, 4, 9, 16, 25, 36, 49, 64, 81]\n"
     ]
    }
   ],
   "source": [
    "    "
   ]
  },
  {
   "cell_type": "code",
   "execution_count": null,
   "id": "62df70ef",
   "metadata": {},
   "outputs": [
    {
     "data": {
      "text/plain": [
       "[0, 1, 4, 9, 16, 25, 36, 49, 64, 81]"
      ]
     },
     "execution_count": 29,
     "metadata": {},
     "output_type": "execute_result"
    }
   ],
   "source": [
    "'''##List comprehension\n",
    "lst=[]\n",
    "for x in range(10):\n",
    "    lst.append(x**2)\n",
    "print(lst)\n",
    "'''\n",
    "#Basic list comprehension\n",
    "[x**2 for x in range(10)]"
   ]
  },
  {
   "cell_type": "code",
   "execution_count": 31,
   "id": "168d84ce",
   "metadata": {},
   "outputs": [
    {
     "data": {
      "text/plain": [
       "[0, 2, 4, 6, 8]"
      ]
     },
     "execution_count": 31,
     "metadata": {},
     "output_type": "execute_result"
    }
   ],
   "source": [
    "#List comprehension with condition\n",
    "'''lst=[]\n",
    "for i in range(10):\n",
    "    if i%2==0:\n",
    "        lst.append(i)\n",
    "print(lst)  '''\n",
    "[num for num in range(10) if num%2==0]\n"
   ]
  },
  {
   "cell_type": "code",
   "execution_count": 32,
   "id": "a44addf0",
   "metadata": {},
   "outputs": [
    {
     "data": {
      "text/plain": [
       "[[1, 'a'],\n",
       " [1, 'b'],\n",
       " [1, 'c'],\n",
       " [1, 'd'],\n",
       " [2, 'a'],\n",
       " [2, 'b'],\n",
       " [2, 'c'],\n",
       " [2, 'd'],\n",
       " [3, 'a'],\n",
       " [3, 'b'],\n",
       " [3, 'c'],\n",
       " [3, 'd'],\n",
       " [4, 'a'],\n",
       " [4, 'b'],\n",
       " [4, 'c'],\n",
       " [4, 'd']]"
      ]
     },
     "execution_count": 32,
     "metadata": {},
     "output_type": "execute_result"
    }
   ],
   "source": [
    "#List Comprehension with nested list\n",
    "lst1=[1,2,3,4]\n",
    "lst2=['a','b','c','d']\n",
    "\n",
    "[[i,j]for i in lst1 for j in lst2]"
   ]
  },
  {
   "cell_type": "code",
   "execution_count": 33,
   "id": "f7c80b41",
   "metadata": {},
   "outputs": [
    {
     "name": "stdout",
     "output_type": "stream",
     "text": [
      "[5, 4, 2, 6, 4, 13]\n"
     ]
    }
   ],
   "source": [
    "#List comprehension with function calls\n",
    "words=[\"Hello\",\"this\",\"my\",\"sample\",\"list\",\"comprehension\"]\n",
    "lengths=[len(word) for word in words]\n",
    "print(lengths)"
   ]
  },
  {
   "cell_type": "code",
   "execution_count": null,
   "id": "311132bf",
   "metadata": {},
   "outputs": [],
   "source": []
  }
 ],
 "metadata": {
  "kernelspec": {
   "display_name": "Python 3",
   "language": "python",
   "name": "python3"
  },
  "language_info": {
   "codemirror_mode": {
    "name": "ipython",
    "version": 3
   },
   "file_extension": ".py",
   "mimetype": "text/x-python",
   "name": "python",
   "nbconvert_exporter": "python",
   "pygments_lexer": "ipython3",
   "version": "3.12.0"
  }
 },
 "nbformat": 4,
 "nbformat_minor": 5
}
