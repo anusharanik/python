{
 "cells": [
  {
   "cell_type": "markdown",
   "id": "4d0ac52e",
   "metadata": {},
   "source": [
    "Create a ToDo list to keep track of tasks\n"
   ]
  },
  {
   "cell_type": "code",
   "execution_count": 2,
   "id": "e9689aeb",
   "metadata": {},
   "outputs": [
    {
     "name": "stdout",
     "output_type": "stream",
     "text": [
      "To do List remaining:\n",
      "Buy Groceries\n",
      "Pay bills\n",
      "Schedule meeting\n",
      "Go for a run\n"
     ]
    }
   ],
   "source": [
    "to_do_list=[\"Buy Groceries\",\"Clean the house\", \"Pay bills\"]\n",
    "\n",
    "## Adding a new task\n",
    "to_do_list.append(\"Schedule meeting\")\n",
    "to_do_list.append(\"Go for a run\")\n",
    "\n",
    "##Removing a completed task\n",
    "to_do_list.remove(\"Clean the house\")\n",
    "\n",
    "#Checking if a task is in the list\n",
    "if \"pay bills\" in to_do_list:\n",
    "    print(\"Dont forget to pay the utility bills\")\n",
    "\n",
    "print(\"To do List remaining:\")\n",
    "for task in to_do_list:\n",
    "    print(f\"{task}\")"
   ]
  },
  {
   "cell_type": "markdown",
   "id": "3799167b",
   "metadata": {},
   "source": [
    "Organising student grades"
   ]
  },
  {
   "cell_type": "code",
   "execution_count": 7,
   "id": "565891e8",
   "metadata": {},
   "outputs": [
    {
     "name": "stdout",
     "output_type": "stream",
     "text": [
      "Average Grade: 85.67\n",
      "Highest Grade:98\n",
      "Lowest Grade:67\n"
     ]
    }
   ],
   "source": [
    "#Organizing student grades\n",
    "grades=[75,67,89,90,98]\n",
    "\n",
    "#Adding a new grade\n",
    "grades.append(95)\n",
    "\n",
    "#Calculating the average grade\n",
    "avg_grade=sum(grades)/len(grades)\n",
    "print(f\"Average Grade: {avg_grade:.2f}\")\n",
    "\n",
    "#Finding the highest and lowest grades\n",
    "Highest_grade=max(grades)\n",
    "lowest_grade=min(grades)\n",
    "print(f\"Highest Grade:{Highest_grade}\")\n",
    "print(f\"Lowest Grade:{lowest_grade}\")"
   ]
  },
  {
   "cell_type": "markdown",
   "id": "9464fb70",
   "metadata": {},
   "source": [
    "Managing an inventory"
   ]
  },
  {
   "cell_type": "code",
   "execution_count": 9,
   "id": "055cf796",
   "metadata": {},
   "outputs": [
    {
     "name": "stdout",
     "output_type": "stream",
     "text": [
      "oranges are in stock\n",
      "Inventory List:\n",
      "-apples\n",
      "-oranges\n",
      "-grapes\n",
      "-strawberries\n"
     ]
    }
   ],
   "source": [
    "#Managing an inventory\n",
    "inventory=[\"apples\",\"bananas\",\"oranges\",\"grapes\"]\n",
    "\n",
    "#Adding a new item\n",
    "inventory.append(\"strawberries\")\n",
    "\n",
    "#Removing an item\n",
    "inventory.remove(\"bananas\")\n",
    "\n",
    "#Checking if an item is in stock\n",
    "item=\"oranges\"\n",
    "if item in inventory:\n",
    "    print(f\"{item} are in stock\")\n",
    "else:\n",
    "    print(f\"{item} are out of stock.\")\n",
    "\n",
    "#Printing the inventory\n",
    "print(\"Inventory List:\")\n",
    "for item in inventory:\n",
    "    print(f\"-{item}\")\n",
    "\n"
   ]
  },
  {
   "cell_type": "markdown",
   "id": "9d76f606",
   "metadata": {},
   "source": [
    "Collecting user feedback"
   ]
  },
  {
   "cell_type": "code",
   "execution_count": 10,
   "id": "315fd926",
   "metadata": {},
   "outputs": [
    {
     "name": "stdout",
     "output_type": "stream",
     "text": [
      "Positive feedback count:2\n",
      "User feedback:\n",
      "-Great service!\n",
      "-Very satisfied\n",
      "-Could be better\n",
      "-excellent experience\n",
      "-Not happy with the service\n"
     ]
    }
   ],
   "source": [
    "#Collecting user feedback\n",
    "feedback=[\"Great service!\",\"Very satisfied\",\"Could be better\",\"excellent experience\"]\n",
    "\n",
    "#Adding new feedback\n",
    "feedback.append(\"Not happy with the service\")\n",
    "\n",
    "#Counting specific feedback\n",
    "positive_feedback_count=sum(1 for comment in feedback if \"great\" in comment.lower() or \"excellent\" in comment.lower())\n",
    "print(f\"Positive feedback count:{positive_feedback_count}\")\n",
    "\n",
    "#Printing all feedback\n",
    "print(\"User feedback:\")\n",
    "for comment in feedback:\n",
    "    print(f\"-{comment}\")"
   ]
  },
  {
   "cell_type": "code",
   "execution_count": null,
   "id": "691dc4fb",
   "metadata": {},
   "outputs": [],
   "source": []
  }
 ],
 "metadata": {
  "kernelspec": {
   "display_name": "Python 3",
   "language": "python",
   "name": "python3"
  },
  "language_info": {
   "codemirror_mode": {
    "name": "ipython",
    "version": 3
   },
   "file_extension": ".py",
   "mimetype": "text/x-python",
   "name": "python",
   "nbconvert_exporter": "python",
   "pygments_lexer": "ipython3",
   "version": "3.12.0"
  }
 },
 "nbformat": 4,
 "nbformat_minor": 5
}
