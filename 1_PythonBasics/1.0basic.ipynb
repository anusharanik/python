{
 "cells": [
  {
   "cell_type": "markdown",
   "metadata": {},
   "source": [
    "# Python Basics\n",
    "\n",
    "## Single line comment"
   ]
  },
  {
   "cell_type": "code",
   "execution_count": null,
   "metadata": {},
   "outputs": [],
   "source": [
    "# Single line comment\n",
    "\n",
    "'''multiline\n",
    "comment'''\n",
    "\n",
    "# Case sensitive\n",
    "Name=\"Anusha\"\n",
    "name=\"katta\"\n",
    "\n",
    "print(Name)\n",
    "print(name)"
   ]
  },
  {
   "cell_type": "markdown",
   "metadata": {},
   "source": [
    "## Indentation\n",
    "Python uses indentation to define a block of code. Usually 4 spaces or a tab"
   ]
  },
  {
   "cell_type": "code",
   "execution_count": null,
   "metadata": {},
   "outputs": [],
   "source": [
    "age = 32\n",
    "\n",
    "if age > 30:\n",
    "    print(age)"
   ]
  },
  {
   "cell_type": "markdown",
   "metadata": {},
   "source": [
    "## Line continuation"
   ]
  },
  {
   "cell_type": "code",
   "execution_count": null,
   "metadata": {},
   "outputs": [],
   "source": [
    "total = 1 + 2 + 3 + 4 + 5 + \\\n",
    "        6 + 7 + 8\n",
    "\n",
    "print(total)"
   ]
  },
  {
   "cell_type": "markdown",
   "metadata": {},
   "source": [
    "## Multiple statements on a single line"
   ]
  },
  {
   "cell_type": "code",
   "execution_count": null,
   "metadata": {},
   "outputs": [],
   "source": [
    "x = 5; y = 10; z = x + y\n",
    "print(z)"
   ]
  },
  {
   "cell_type": "markdown",
   "metadata": {},
   "source": [
    "## String operations"
   ]
  },
  {
   "cell_type": "code",
   "execution_count": null,
   "metadata": {},
   "outputs": [],
   "source": [
    "print(\"Hello World!\\nHello World!\")\n",
    "print(\"Hello\" + \"Anusha\")\n",
    "print(\"Hello\" + \" Anusha\")\n",
    "print(\"Hello\" + \" \" + \"Anusha\")"
   ]
  },
  {
   "cell_type": "markdown",
   "metadata": {},
   "source": [
    "## Input function\n",
    "This cell will prompt for user input when executed"
   ]
  },
  {
   "cell_type": "code",
   "execution_count": null,
   "metadata": {},
   "outputs": [],
   "source": [
    "user_name = input(\"What is your name? \")\n",
    "print(f\"Hello, {user_name}!\")"
   ]
  },
  {
   "cell_type": "markdown",
   "metadata": {},
   "source": [
    "## All about variables\n",
    "\n",
    "- Variable names should be descriptive\n",
    "- They must always start with a letter or an '_' and contains letters, numbers or underscore\n",
    "- Variable names are case sensitive"
   ]
  },
  {
   "cell_type": "code",
   "execution_count": null,
   "metadata": {},
   "outputs": [],
   "source": [
    "# This will cause an error because variable names cannot start with a number\n",
    "# 1a = 10  # Uncomment this line to see the error\n",
    "# print(1a)\n",
    "\n",
    "# Correct way:\n",
    "a1 = 10\n",
    "print(a1)"
   ]
  },
  {
   "cell_type": "markdown",
   "metadata": {},
   "source": [
    "## Variable types\n",
    "Python determines the type of the variable during run time"
   ]
  },
  {
   "cell_type": "code",
   "execution_count": null,
   "metadata": {},
   "outputs": [],
   "source": [
    "age = 25          # int\n",
    "height = 4.5      # float\n",
    "name = \"anusha\"   # string\n",
    "is_student = True # bool\n",
    "\n",
    "print(type(name))\n",
    "print(type(age))\n",
    "print(type(height))\n",
    "print(type(is_student))"
   ]
  },
  {
   "cell_type": "markdown",
   "metadata": {},
   "source": [
    "## Type checking and conversion"
   ]
  },
  {
   "cell_type": "code",
   "execution_count": null,
   "metadata": {},
   "outputs": [],
   "source": [
    "age = 25\n",
    "print(type(age))\n",
    "\n",
    "age_str = str(age)\n",
    "print(age_str)\n",
    "print(type(age_str))"
   ]
  },
  {
   "cell_type": "code",
   "execution_count": null,
   "metadata": {},
   "outputs": [],
   "source": [
    "# This will cause an error because you can't convert a string to int directly\n",
    "name = \"anusha\"\n",
    "# print(int(name))  # Uncomment this line to see the error\n",
    "\n",
    "# But you can convert numeric strings:\n",
    "numeric_string = \"123\"\n",
    "print(int(numeric_string))\n",
    "print(type(int(numeric_string)))"
   ]
  },
  {
   "cell_type": "code",
   "execution_count": null,
   "metadata": {},
   "outputs": [],
   "source": [
    "height = 5.22\n",
    "print(type(height))\n",
    "print(int(height))  # This will truncate the decimal part"
   ]
  },
  {
   "cell_type": "markdown",
   "metadata": {},
   "source": [
    "## Dynamic Typing\n",
    "We can change the type of the variable during program execution"
   ]
  },
  {
   "cell_type": "code",
   "execution_count": null,
   "metadata": {},
   "outputs": [],
   "source": [
    "var = 10\n",
    "print(var, type(var))\n",
    "\n",
    "var = \"anusha\"\n",
    "print(var, type(var))\n",
    "\n",
    "var = 3.45\n",
    "print(var, type(var))"
   ]
  },
  {
   "cell_type": "markdown",
   "metadata": {},
   "source": [
    "## Input function with type checking\n",
    "The input() function always returns a string"
   ]
  },
  {
   "cell_type": "code",
   "execution_count": null,
   "metadata": {},
   "outputs": [],
   "source": [
    "a = input(\"Enter a value: \")\n",
    "print(f\"You entered: {a}\")\n",
    "print(f\"Type of input: {type(a)}\")\n",
    "\n",
    "# If you want to convert it to a number:\n",
    "try:\n",
    "    a_as_int = int(a)\n",
    "    print(f\"As integer: {a_as_int}, type: {type(a_as_int)}\")\n",
    "except ValueError:\n",
    "    print(\"Could not convert to integer\")\n",
    "    \n",
    "try:\n",
    "    a_as_float = float(a)\n",
    "    print(f\"As float: {a_as_float}, type: {type(a_as_float)}\")\n",
    "except ValueError:\n",
    "    print(\"Could not convert to float\")"
   ]
  }
 ],
 "metadata": {
  "kernelspec": {
   "display_name": "Python 3",
   "language": "python",
   "name": "python3"
  },
  "language_info": {
   "codemirror_mode": {
    "name": "ipython",
    "version": 3
   },
   "file_extension": ".py",
   "mimetype": "text/x-python",
   "name": "python",
   "nbconvert_exporter": "python",
   "pygments_lexer": "ipython3",
   "version": "3.12.0"
  }
 },
 "nbformat": 4,
 "nbformat_minor": 4
}
