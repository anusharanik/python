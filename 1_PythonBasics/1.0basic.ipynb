{
 "cells": [
  {
   "cell_type": "markdown",
   "id": "a2b0d444",
   "metadata": {},
   "source": [
    "##Single line comment\n"
   ]
  },
  {
   "cell_type": "markdown",
   "id": "80248716",
   "metadata": {},
   "source": [
    "'''multiline\n",
    "comment'''"
   ]
  },
  {
   "cell_type": "markdown",
   "id": "995f3971",
   "metadata": {},
   "source": [
    "Case sensitive"
   ]
  },
  {
   "cell_type": "code",
   "execution_count": 1,
   "id": "41fa0dad",
   "metadata": {},
   "outputs": [
    {
     "name": "stdout",
     "output_type": "stream",
     "text": [
      "Anusha\n",
      "katta\n"
     ]
    }
   ],
   "source": [
    "Name=\"Anusha\"\n",
    "name=\"katta\"\n",
    "print(Name)\n",
    "print(name)"
   ]
  },
  {
   "cell_type": "markdown",
   "id": "2ea0a7ee",
   "metadata": {},
   "source": [
    "Indentation"
   ]
  },
  {
   "cell_type": "code",
   "execution_count": 3,
   "id": "692bbe2b",
   "metadata": {},
   "outputs": [
    {
     "name": "stdout",
     "output_type": "stream",
     "text": [
      "32\n"
     ]
    }
   ],
   "source": [
    "##Python uses identation to define a block of code. usually 4 spaces or a tab\n",
    "age=32\n",
    "if age>30:\n",
    "    print(age)"
   ]
  },
  {
   "cell_type": "code",
   "execution_count": 4,
   "id": "85d1e7ca",
   "metadata": {},
   "outputs": [
    {
     "name": "stdout",
     "output_type": "stream",
     "text": [
      "36\n"
     ]
    }
   ],
   "source": [
    "##line continuation\n",
    "total=1+2+3+4+5+\\\n",
    "6+7+8\n",
    "print(total)"
   ]
  },
  {
   "cell_type": "code",
   "execution_count": 6,
   "id": "f3c2221d",
   "metadata": {},
   "outputs": [
    {
     "name": "stdout",
     "output_type": "stream",
     "text": [
      "15\n"
     ]
    }
   ],
   "source": [
    "##Multiple statements on a single line\n",
    "x=5;y=10;z=x+y\n",
    "print(z)"
   ]
  },
  {
   "cell_type": "code",
   "execution_count": 7,
   "id": "e68d4dc5",
   "metadata": {},
   "outputs": [
    {
     "name": "stdout",
     "output_type": "stream",
     "text": [
      "Hello World!\n",
      "Hello World!\n"
     ]
    }
   ],
   "source": [
    "print(\"Hello World!\\nHello World!\")"
   ]
  },
  {
   "cell_type": "code",
   "execution_count": 8,
   "id": "c6e05e29",
   "metadata": {},
   "outputs": [
    {
     "name": "stdout",
     "output_type": "stream",
     "text": [
      "HelloAnusha\n"
     ]
    }
   ],
   "source": [
    "print(\"Hello\"+\"Anusha\")"
   ]
  },
  {
   "cell_type": "code",
   "execution_count": 9,
   "id": "c76d369a",
   "metadata": {},
   "outputs": [
    {
     "name": "stdout",
     "output_type": "stream",
     "text": [
      "Hello Anusha\n"
     ]
    }
   ],
   "source": [
    "print(\"Hello\"+\" Anusha\")"
   ]
  },
  {
   "cell_type": "code",
   "execution_count": 11,
   "id": "67fea7c1",
   "metadata": {},
   "outputs": [
    {
     "name": "stdout",
     "output_type": "stream",
     "text": [
      "Hello Anusha\n"
     ]
    }
   ],
   "source": [
    "print(\"Hello\"+\" \"+\"Anusha\")"
   ]
  },
  {
   "cell_type": "code",
   "execution_count": null,
   "id": "18ace5d4",
   "metadata": {},
   "outputs": [],
   "source": [
    "input(\"what is your name?\")"
   ]
  },
  {
   "cell_type": "code",
   "execution_count": 3,
   "id": "233d61de",
   "metadata": {},
   "outputs": [
    {
     "ename": "SyntaxError",
     "evalue": "invalid decimal literal (801468901.py, line 6)",
     "output_type": "error",
     "traceback": [
      "  \u001b[36mCell\u001b[39m\u001b[36m \u001b[39m\u001b[32mIn[3]\u001b[39m\u001b[32m, line 6\u001b[39m\n\u001b[31m    \u001b[39m\u001b[31m1a=10\u001b[39m\n    ^\n\u001b[31mSyntaxError\u001b[39m\u001b[31m:\u001b[39m invalid decimal literal\n"
     ]
    }
   ],
   "source": [
    "#All about variables\n",
    "#Variable names should be descriptive\n",
    "# They must always start with a letter or an '_' and contains letters, numbers or undescore\n",
    "#variable names are case sensitive\n",
    "\n",
    "1a=10\n",
    "print(1a)\n",
    "\n"
   ]
  },
  {
   "cell_type": "code",
   "execution_count": 4,
   "id": "daced18a",
   "metadata": {},
   "outputs": [
    {
     "name": "stdout",
     "output_type": "stream",
     "text": [
      "<class 'str'>\n"
     ]
    }
   ],
   "source": [
    "#Variable types\n",
    "#Python determines the type of the variable during run time\n",
    "age=25 #int\n",
    "height=4.5 #float\n",
    "name=\"anusha\" #string\n",
    "is_student=True #bool\n",
    "print(type(name))"
   ]
  },
  {
   "cell_type": "code",
   "execution_count": 5,
   "id": "abe982d5",
   "metadata": {},
   "outputs": [
    {
     "data": {
      "text/plain": [
       "float"
      ]
     },
     "execution_count": 5,
     "metadata": {},
     "output_type": "execute_result"
    }
   ],
   "source": [
    "##Type checking and convesrion\n",
    "type(height)"
   ]
  },
  {
   "cell_type": "code",
   "execution_count": 6,
   "id": "75247de8",
   "metadata": {},
   "outputs": [
    {
     "name": "stdout",
     "output_type": "stream",
     "text": [
      "<class 'int'>\n"
     ]
    }
   ],
   "source": [
    "age=25\n",
    "print(type(age))"
   ]
  },
  {
   "cell_type": "code",
   "execution_count": 7,
   "id": "9f6d0c08",
   "metadata": {},
   "outputs": [
    {
     "name": "stdout",
     "output_type": "stream",
     "text": [
      "25\n",
      "<class 'str'>\n"
     ]
    }
   ],
   "source": [
    "age_str=str(age)\n",
    "print(age_str)\n",
    "print(type(age_str))"
   ]
  },
  {
   "cell_type": "code",
   "execution_count": 8,
   "id": "f89b0d98",
   "metadata": {},
   "outputs": [
    {
     "ename": "ValueError",
     "evalue": "invalid literal for int() with base 10: 'anusha'",
     "output_type": "error",
     "traceback": [
      "\u001b[31m---------------------------------------------------------------------------\u001b[39m",
      "\u001b[31mValueError\u001b[39m                                Traceback (most recent call last)",
      "\u001b[36mCell\u001b[39m\u001b[36m \u001b[39m\u001b[32mIn[8]\u001b[39m\u001b[32m, line 2\u001b[39m\n\u001b[32m      1\u001b[39m name=\u001b[33m\"\u001b[39m\u001b[33manusha\u001b[39m\u001b[33m\"\u001b[39m\n\u001b[32m----> \u001b[39m\u001b[32m2\u001b[39m \u001b[38;5;28mprint\u001b[39m(\u001b[38;5;28;43mint\u001b[39;49m\u001b[43m(\u001b[49m\u001b[43mname\u001b[49m\u001b[43m)\u001b[49m)\n",
      "\u001b[31mValueError\u001b[39m: invalid literal for int() with base 10: 'anusha'"
     ]
    }
   ],
   "source": [
    "name=\"anusha\"\n",
    "print(int(name))"
   ]
  },
  {
   "cell_type": "code",
   "execution_count": 9,
   "id": "16927fc5",
   "metadata": {},
   "outputs": [
    {
     "name": "stdout",
     "output_type": "stream",
     "text": [
      "<class 'float'>\n"
     ]
    }
   ],
   "source": [
    "height=5.22\n",
    "print(type(height))"
   ]
  },
  {
   "cell_type": "code",
   "execution_count": 14,
   "id": "029de55f",
   "metadata": {},
   "outputs": [
    {
     "name": "stdout",
     "output_type": "stream",
     "text": [
      "10 <class 'int'>\n",
      "anusha <class 'str'>\n",
      "3.45 <class 'float'>\n"
     ]
    }
   ],
   "source": [
    "##Dynamic Typing\n",
    "## We can change the type of the variable during program execution\n",
    "var=10\n",
    "print(var,type(var))\n",
    "var=\"anusha\"\n",
    "print(var,type(var))\n",
    "var=3.45\n",
    "print(var,type(var))"
   ]
  },
  {
   "cell_type": "code",
   "execution_count": 1,
   "id": "db0d3c2c",
   "metadata": {},
   "outputs": [
    {
     "name": "stdout",
     "output_type": "stream",
     "text": [
      "<class 'str'>\n"
     ]
    }
   ],
   "source": [
    "a=input(\"Enter a value\")\n",
    "print(type(a))"
   ]
  },
  {
   "cell_type": "markdown",
   "id": "501c9666",
   "metadata": {},
   "source": [
    "Basic Datatypes"
   ]
  },
  {
   "cell_type": "code",
   "execution_count": 1,
   "id": "eb41ad50",
   "metadata": {},
   "outputs": [
    {
     "name": "stdout",
     "output_type": "stream",
     "text": [
      "anusha\n"
     ]
    }
   ],
   "source": [
    "##string datatype\n",
    "name=\"anusha\"\n",
    "print(name)"
   ]
  },
  {
   "cell_type": "code",
   "execution_count": 2,
   "id": "39d88b14",
   "metadata": {},
   "outputs": [
    {
     "data": {
      "text/plain": [
       "bool"
      ]
     },
     "execution_count": 2,
     "metadata": {},
     "output_type": "execute_result"
    }
   ],
   "source": [
    "#boolean datatype\n",
    "is_true=True\n",
    "type(is_true)"
   ]
  },
  {
   "cell_type": "code",
   "execution_count": 3,
   "id": "207b7f03",
   "metadata": {},
   "outputs": [
    {
     "name": "stdout",
     "output_type": "stream",
     "text": [
      "5.2\n",
      "<class 'float'>\n"
     ]
    }
   ],
   "source": [
    "#float\n",
    "height=5.2\n",
    "print(height)\n",
    "print(type(height))"
   ]
  },
  {
   "cell_type": "code",
   "execution_count": 4,
   "id": "5e3b6b14",
   "metadata": {},
   "outputs": [
    {
     "data": {
      "text/plain": [
       "bool"
      ]
     },
     "execution_count": 4,
     "metadata": {},
     "output_type": "execute_result"
    }
   ],
   "source": [
    "a=110\n",
    "b=57\n",
    "type(a==b)"
   ]
  },
  {
   "cell_type": "code",
   "execution_count": 6,
   "id": "272a5745",
   "metadata": {},
   "outputs": [
    {
     "ename": "TypeError",
     "evalue": "can only concatenate str (not \"int\") to str",
     "output_type": "error",
     "traceback": [
      "\u001b[31m---------------------------------------------------------------------------\u001b[39m",
      "\u001b[31mTypeError\u001b[39m                                 Traceback (most recent call last)",
      "\u001b[36mCell\u001b[39m\u001b[36m \u001b[39m\u001b[32mIn[6]\u001b[39m\u001b[32m, line 2\u001b[39m\n\u001b[32m      1\u001b[39m \u001b[38;5;66;03m#common errors\u001b[39;00m\n\u001b[32m----> \u001b[39m\u001b[32m2\u001b[39m result=\u001b[33;43m\"\u001b[39;49m\u001b[33;43mhello\u001b[39;49m\u001b[33;43m\"\u001b[39;49m\u001b[43m \u001b[49m\u001b[43m+\u001b[49m\u001b[43m \u001b[49m\u001b[32;43m5\u001b[39;49m\n",
      "\u001b[31mTypeError\u001b[39m: can only concatenate str (not \"int\") to str"
     ]
    }
   ],
   "source": [
    "#common errors\n",
    "result=\"hello\" + 5"
   ]
  },
  {
   "cell_type": "code",
   "execution_count": 8,
   "id": "9ba179f1",
   "metadata": {},
   "outputs": [
    {
     "name": "stdout",
     "output_type": "stream",
     "text": [
      "hello5\n"
     ]
    }
   ],
   "source": [
    "result=\"hello\"+str(5)\n",
    "print(result)"
   ]
  },
  {
   "cell_type": "markdown",
   "id": "c5eb8023",
   "metadata": {},
   "source": [
    "#Operators"
   ]
  },
  {
   "cell_type": "code",
   "execution_count": 19,
   "id": "f7aa07ee",
   "metadata": {},
   "outputs": [
    {
     "name": "stdout",
     "output_type": "stream",
     "text": [
      "addition: 55\n",
      "subtraction: -35\n",
      "multiplication: 450\n",
      "division: 0.2222222222222222\n",
      "floor division: 0\n",
      "modulus 10\n",
      "exponent 1000000000000000000000000000000000000000000000\n"
     ]
    }
   ],
   "source": [
    "###Arthimetic operations\n",
    "a=10\n",
    "b=45\n",
    "add=a+b\n",
    "sub=a-b\n",
    "multi=a*b\n",
    "div=a/b\n",
    "floor_division=a//b\n",
    "modulus_result=a%b\n",
    "exponent_result=a**b\n",
    "print(\"addition:\",add)\n",
    "print(\"subtraction:\",sub)\n",
    "print(\"multiplication:\",multi)\n",
    "print(\"division:\",div)\n",
    "print(\"floor division:\",floor_division)\n",
    "print(\"modulus\",modulus_result)\n",
    "print(\"exponent\",exponent_result)"
   ]
  },
  {
   "cell_type": "markdown",
   "id": "c55dae37",
   "metadata": {},
   "source": [
    "#Comparison operators"
   ]
  },
  {
   "cell_type": "code",
   "execution_count": 21,
   "id": "08db5f36",
   "metadata": {},
   "outputs": [
    {
     "name": "stdout",
     "output_type": "stream",
     "text": [
      "True\n"
     ]
    }
   ],
   "source": [
    "# ==\n",
    "a=10\n",
    "b=10\n",
    "print(a==b)"
   ]
  },
  {
   "cell_type": "code",
   "execution_count": 22,
   "id": "3e8ae8a1",
   "metadata": {},
   "outputs": [
    {
     "name": "stdout",
     "output_type": "stream",
     "text": [
      "True\n"
     ]
    }
   ],
   "source": [
    "# !=\n",
    "str1=\"anusha\"\n",
    "str2=\"Anusha\"\n",
    "print(str1!=str2)"
   ]
  },
  {
   "cell_type": "code",
   "execution_count": 23,
   "id": "37762e2c",
   "metadata": {},
   "outputs": [
    {
     "name": "stdout",
     "output_type": "stream",
     "text": [
      "True\n"
     ]
    }
   ],
   "source": [
    "#greater than\n",
    "num1=45\n",
    "num2=35\n",
    "print(num1>num2)"
   ]
  },
  {
   "cell_type": "code",
   "execution_count": 24,
   "id": "70a4fe83",
   "metadata": {},
   "outputs": [
    {
     "name": "stdout",
     "output_type": "stream",
     "text": [
      "False\n"
     ]
    }
   ],
   "source": [
    "print(num1<num2)"
   ]
  },
  {
   "cell_type": "code",
   "execution_count": 25,
   "id": "c266b584",
   "metadata": {},
   "outputs": [
    {
     "name": "stdout",
     "output_type": "stream",
     "text": [
      "True\n"
     ]
    }
   ],
   "source": [
    "#greater than equal to\n",
    "n1=45\n",
    "n2=45\n",
    "print(n1>=n2)"
   ]
  },
  {
   "cell_type": "code",
   "execution_count": 26,
   "id": "af4f34cc",
   "metadata": {},
   "outputs": [
    {
     "name": "stdout",
     "output_type": "stream",
     "text": [
      "True\n"
     ]
    }
   ],
   "source": [
    "#less than or equal to\n",
    "print(n1<=n2)"
   ]
  },
  {
   "cell_type": "markdown",
   "id": "b8da64d7",
   "metadata": {},
   "source": [
    "#Logical operator"
   ]
  },
  {
   "cell_type": "code",
   "execution_count": 27,
   "id": "b63eb8e5",
   "metadata": {},
   "outputs": [
    {
     "name": "stdout",
     "output_type": "stream",
     "text": [
      "True\n"
     ]
    }
   ],
   "source": [
    "#And, Not, OR\n",
    "x=True\n",
    "y=True\n",
    "print(x and y)\n"
   ]
  },
  {
   "cell_type": "code",
   "execution_count": 28,
   "id": "db809391",
   "metadata": {},
   "outputs": [
    {
     "name": "stdout",
     "output_type": "stream",
     "text": [
      "True\n"
     ]
    }
   ],
   "source": [
    "print(x or y)"
   ]
  },
  {
   "cell_type": "code",
   "execution_count": 29,
   "id": "536b9b43",
   "metadata": {},
   "outputs": [
    {
     "name": "stdout",
     "output_type": "stream",
     "text": [
      "False\n"
     ]
    }
   ],
   "source": [
    "print(not x)"
   ]
  },
  {
   "cell_type": "markdown",
   "id": "c365df9a",
   "metadata": {},
   "source": [
    "Conditional Statements"
   ]
  },
  {
   "cell_type": "code",
   "execution_count": 4,
   "id": "c7168a6b",
   "metadata": {},
   "outputs": [
    {
     "name": "stdout",
     "output_type": "stream",
     "text": [
      "You are a minor\n"
     ]
    }
   ],
   "source": [
    "#if statement\n",
    "age=18\n",
    "\n",
    "if age>=20:\n",
    "\n",
    "    print(\"You are a major\")\n",
    "else:\n",
    "    print(\"You are a minor\")    "
   ]
  },
  {
   "cell_type": "code",
   "execution_count": 5,
   "id": "15ac6868",
   "metadata": {},
   "outputs": [
    {
     "name": "stdout",
     "output_type": "stream",
     "text": [
      "You are an adult\n"
     ]
    }
   ],
   "source": [
    "#elif statement\n",
    "age=20\n",
    "\n",
    "if age<13:\n",
    "    print(\"You ara a child\")\n",
    "elif age<18:\n",
    "    print(\"You are a teenager\")\n",
    "else:\n",
    "    print(\"You are an adult\")        "
   ]
  },
  {
   "cell_type": "code",
   "execution_count": null,
   "id": "9f451245",
   "metadata": {},
   "outputs": [
    {
     "name": "stdout",
     "output_type": "stream",
     "text": [
      "the number is positive\n",
      "The number is odd\n"
     ]
    }
   ],
   "source": [
    "#Nested Conditional statements\n",
    "'''\n",
    "# num=int(input(\"Enter the number\"))\n",
    "#input function is not working in jupyter notebook but working fine from the terminal\n",
    "'''\n",
    "num=5\n",
    "\n",
    "if num>=0:\n",
    "    print(\"the number is positive\")\n",
    "    if num%2==0:\n",
    "        print(\"The number is even\")\n",
    "    else:\n",
    "        print(\"The number is odd\")\n",
    "else:\n",
    "    print(\"The number is zero or negative\")            "
   ]
  },
  {
   "cell_type": "markdown",
   "id": "08c698ae",
   "metadata": {},
   "source": [
    "Practical Examples"
   ]
  },
  {
   "cell_type": "code",
   "execution_count": 6,
   "id": "4e19c6a9",
   "metadata": {},
   "outputs": [
    {
     "name": "stdout",
     "output_type": "stream",
     "text": [
      "1900 is not a leap year\n"
     ]
    }
   ],
   "source": [
    "''' Leap year\n",
    "     Divisible by 400 → leap\n",
    "     Divisible by 4 but not 100 → leap\n",
    "     test data: 2000,2024, 1900 and 2025\n",
    "'''\n",
    "\n",
    "year=1900\n",
    "\n",
    "if(year%400==0) or (year%4==0 and year%100!=0):\n",
    "    print(year,\"is a leap year\")\n",
    "else:\n",
    "    print(year,\"is not a leap year\")   "
   ]
  },
  {
   "cell_type": "code",
   "execution_count": null,
   "id": "28953875",
   "metadata": {},
   "outputs": [],
   "source": []
  }
 ],
 "metadata": {
  "kernelspec": {
   "display_name": "Python 3",
   "language": "python",
   "name": "python3"
  },
  "language_info": {
   "codemirror_mode": {
    "name": "ipython",
    "version": 3
   },
   "file_extension": ".py",
   "mimetype": "text/x-python",
   "name": "python",
   "nbconvert_exporter": "python",
   "pygments_lexer": "ipython3",
   "version": "3.12.0"
  }
 },
 "nbformat": 4,
 "nbformat_minor": 5
}
