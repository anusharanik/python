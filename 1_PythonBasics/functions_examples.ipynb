{
 "cells": [
  {
   "cell_type": "markdown",
   "id": "0ca4fd73",
   "metadata": {},
   "source": [
    "1. Temperature Conversion"
   ]
  },
  {
   "cell_type": "code",
   "execution_count": 1,
   "id": "1ebcc75b",
   "metadata": {},
   "outputs": [
    {
     "name": "stdout",
     "output_type": "stream",
     "text": [
      "77.0\n",
      "25.0\n"
     ]
    }
   ],
   "source": [
    "def convert_temperature(temp,unit):\n",
    "    \"\"\"Converting Celsius to Fahrenheit and Vice versa \"\"\"\n",
    "    if unit=='C':\n",
    "        return temp * 9/5+32 #C to F conversion\n",
    "    elif unit=='F':\n",
    "        return (temp-32)*5/9 # F to C conversion\n",
    "    else: \n",
    "        return None\n",
    "print(convert_temperature(25,'C'))\n",
    "print(convert_temperature(77,'F'))       "
   ]
  },
  {
   "cell_type": "markdown",
   "id": "318388ac",
   "metadata": {},
   "source": [
    "2. Password Strength Checker"
   ]
  },
  {
   "cell_type": "code",
   "execution_count": 6,
   "id": "a6396f00",
   "metadata": {},
   "outputs": [
    {
     "name": "stdout",
     "output_type": "stream",
     "text": [
      "False\n",
      "True\n",
      "True\n"
     ]
    }
   ],
   "source": [
    "def is_strong_password(password):\n",
    "    \"\"\"Function to check if the password is strong or not\"\"\"\n",
    "    if len(password)<8:\n",
    "        return False\n",
    "    if not any(char.isdigit() for char in password):\n",
    "        return False\n",
    "    if not any(char.islower() for char in password):\n",
    "        return False\n",
    "    if not any(char.isupper() for char in password):\n",
    "        return False\n",
    "    if not any(char in '!@#$%^&*()_+' for char in password):\n",
    "        return False\n",
    "\n",
    "    return True\n",
    "\n",
    "##Calling the function\n",
    "print(is_strong_password(\"Weakpassword\"))\n",
    "print(is_strong_password(\"Strong!3pwd\"))\n",
    "print(is_strong_password(\"Strong!   3pwd\"))            "
   ]
  },
  {
   "cell_type": "markdown",
   "id": "11e887f2",
   "metadata": {},
   "source": [
    "3. Calculate the total cost of items in a shopping cart"
   ]
  },
  {
   "cell_type": "code",
   "execution_count": null,
   "id": "abc74151",
   "metadata": {},
   "outputs": [
    {
     "name": "stdout",
     "output_type": "stream",
     "text": [
      "5.8999999999999995\n",
      "5.9\n"
     ]
    }
   ],
   "source": [
    "def calculate_total_cost(cart):\n",
    "    total_cost=0\n",
    "    for item in cart:\n",
    "        total_cost+=item['price']*item['quantity']\n",
    "    return total_cost    \n",
    "\n",
    "#Cart data    \n",
    "cart=[{'name':'apple','price':0.5,'quantity':4},\n",
    "      {'name':'banana','price':0.3,'quantity':6},\n",
    "      {'name':'orange','price':0.7,'quantity':3}\n",
    "\n",
    "]\n",
    "total_cost=calculate_total_cost(cart)\n",
    "print(total_cost)\n",
    "print(round(total_cost,2))\n"
   ]
  },
  {
   "cell_type": "markdown",
   "id": "4430dfed",
   "metadata": {},
   "source": [
    "3. Check if a string is palindrome"
   ]
  },
  {
   "cell_type": "code",
   "execution_count": null,
   "id": "2048b2c1",
   "metadata": {},
   "outputs": [],
   "source": [
    "def is_palindrome(s):\n",
    "    s=s.lower().replace(\" \",\"\")\n",
    "    return r==s[::-1]\n",
    "    if r==s\n",
    "    print()\n",
    "print    "
   ]
  }
 ],
 "metadata": {
  "kernelspec": {
   "display_name": "Python 3",
   "language": "python",
   "name": "python3"
  },
  "language_info": {
   "codemirror_mode": {
    "name": "ipython",
    "version": 3
   },
   "file_extension": ".py",
   "mimetype": "text/x-python",
   "name": "python",
   "nbconvert_exporter": "python",
   "pygments_lexer": "ipython3",
   "version": "3.12.0"
  }
 },
 "nbformat": 4,
 "nbformat_minor": 5
}
