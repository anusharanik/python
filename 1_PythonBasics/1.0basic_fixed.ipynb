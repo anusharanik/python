{
 "cells": [
  {
   "cell_type": "markdown",
   "id": "1",
   "metadata": {},
   "source": [
    "# Python Basics Tutorial\n",
    "\n",
    "This notebook covers fundamental Python concepts with interactive examples."
   ]
  },
  {
   "cell_type": "markdown",
   "id": "2",
   "metadata": {},
   "source": [
    "## Comments"
   ]
  },
  {
   "cell_type": "code",
   "execution_count": null,
   "id": "3",
   "metadata": {},
   "outputs": [],
   "source": [
    "# Single line comment\n",
    "\n",
    "'''\n",
    "This is a\n",
    "multiline comment\n",
    "'''\n",
    "\n",
    "print(\"Comments help explain code\")"
   ]
  },
  {
   "cell_type": "markdown",
   "id": "4",
   "metadata": {},
   "source": [
    "## Case Sensitivity"
   ]
  },
  {
   "cell_type": "code",
   "execution_count": null,
   "id": "5",
   "metadata": {},
   "outputs": [],
   "source": [
    "# Python is case sensitive\n",
    "Name = \"Anusha\"\n",
    "name = \"katta\"\n",
    "\n",
    "print(\"Name:\", Name)\n",
    "print(\"name:\", name)"
   ]
  },
  {
   "cell_type": "markdown",
   "id": "6",
   "metadata": {},
   "source": [
    "## Indentation"
   ]
  },
  {
   "cell_type": "code",
   "execution_count": null,
   "id": "7",
   "metadata": {},
   "outputs": [],
   "source": [
    "# Python uses indentation to define code blocks\n",
    "age = 32\n",
    "\n",
    "if age > 30:\n",
    "    print(f\"Age is {age}, which is greater than 30\")\n",
    "    print(\"This line is also indented\")\n",
    "\n",
    "print(\"This line is not indented\")"
   ]
  },
  {
   "cell_type": "markdown",
   "id": "8",
   "metadata": {},
   "source": [
    "## Line Continuation"
   ]
  },
  {
   "cell_type": "code",
   "execution_count": null,
   "id": "9",
   "metadata": {},
   "outputs": [],
   "source": [
    "# Use backslash for line continuation\n",
    "total = 1 + 2 + 3 + 4 + 5 + \\\n",
    "        6 + 7 + 8\n",
    "\n",
    "print(f\"Total: {total}\")"
   ]
  },
  {
   "cell_type": "markdown",
   "id": "10",
   "metadata": {},
   "source": [
    "## Multiple Statements"
   ]
  },
  {
   "cell_type": "code",
   "execution_count": null,
   "id": "11",
   "metadata": {},
   "outputs": [],
   "source": [
    "# Multiple statements on one line (not recommended)\n",
    "x = 5; y = 10; z = x + y\n",
    "print(f\"x={x}, y={y}, z={z}\")"
   ]
  },
  {
   "cell_type": "markdown",
   "id": "12",
   "metadata": {},
   "source": [
    "## String Operations"
   ]
  },
  {
   "cell_type": "code",
   "execution_count": null,
   "id": "13",
   "metadata": {},
   "outputs": [],
   "source": [
    "print(\"Hello World!\\nHello World!\")  # \\n creates a new line\n",
    "print(\"Hello\" + \"Anusha\")            # String concatenation\n",
    "print(\"Hello\" + \" Anusha\")           # With space\n",
    "print(\"Hello\" + \" \" + \"Anusha\")      # Multiple concatenations"
   ]
  },
  {
   "cell_type": "markdown",
   "id": "14",
   "metadata": {},
   "source": [
    "## Input Function - Basic Example\n",
    "\n",
    "**Run this cell and enter your name when prompted:**"
   ]
  },
  {
   "cell_type": "code",
   "execution_count": null,
   "id": "15",
   "metadata": {},
   "outputs": [],
   "source": [
    "user_name = input(\"What is your name? \")\n",
    "print(f\"Hello, {user_name}! Nice to meet you.\")"
   ]
  },
  {
   "cell_type": "markdown",
   "id": "16",
   "metadata": {},
   "source": [
    "## Variables and Naming Rules"
   ]
  },
  {
   "cell_type": "code",
   "execution_count": null,
   "id": "17",
   "metadata": {},
   "outputs": [],
   "source": [
    "# Variable naming rules:\n",
    "# - Must start with letter or underscore\n",
    "# - Can contain letters, numbers, underscores\n",
    "# - Case sensitive\n",
    "# - Cannot start with numbers\n",
    "\n",
    "# Valid variable names:\n",
    "my_variable = 10\n",
    "_private_var = 20\n",
    "variable123 = 30\n",
    "\n",
    "# Invalid (commented out to avoid errors):\n",
    "# 1variable = 40  # Cannot start with number\n",
    "# my-variable = 50  # Cannot contain hyphens\n",
    "\n",
    "print(f\"my_variable: {my_variable}\")\n",
    "print(f\"_private_var: {_private_var}\")\n",
    "print(f\"variable123: {variable123}\")"
   ]
  },
  {
   "cell_type": "markdown",
   "id": "18",
   "metadata": {},
   "source": [
    "## Variable Types"
   ]
  },
  {
   "cell_type": "code",
   "execution_count": null,
   "id": "19",
   "metadata": {},
   "outputs": [],
   "source": [
    "# Python determines variable types automatically\n",
    "age = 25              # int\n",
    "height = 4.5          # float\n",
    "name = \"anusha\"       # string\n",
    "is_student = True     # bool\n",
    "\n",
    "print(f\"age: {age}, type: {type(age)}\")\n",
    "print(f\"height: {height}, type: {type(height)}\")\n",
    "print(f\"name: {name}, type: {type(name)}\")\n",
    "print(f\"is_student: {is_student}, type: {type(is_student)}\")"
   ]
  },
  {
   "cell_type": "markdown",
   "id": "20",
   "metadata": {},
   "source": [
    "## Type Conversion"
   ]
  },
  {
   "cell_type": "code",
   "execution_count": null,
   "id": "21",
   "metadata": {},
   "outputs": [],
   "source": [
    "# Converting between types\n",
    "age = 25\n",
    "print(f\"Original age: {age}, type: {type(age)}\")\n",
    "\n",
    "age_str = str(age)\n",
    "print(f\"Age as string: '{age_str}', type: {type(age_str)}\")\n",
    "\n",
    "# Converting string numbers to integers\n",
    "numeric_string = \"123\"\n",
    "number = int(numeric_string)\n",
    "print(f\"String '{numeric_string}' as int: {number}, type: {type(number)}\")"
   ]
  },
  {
   "cell_type": "code",
   "execution_count": null,
   "id": "22",
   "metadata": {},
   "outputs": [],
   "source": [
    "# Float conversion\n",
    "height = 5.22\n",
    "print(f\"Height: {height}, type: {type(height)}\")\n",
    "print(f\"Height as int (truncated): {int(height)}\")\n",
    "\n",
    "# Converting string to float\n",
    "float_string = \"3.14\"\n",
    "pi = float(float_string)\n",
    "print(f\"String '{float_string}' as float: {pi}\")"
   ]
  },
  {
   "cell_type": "markdown",
   "id": "23",
   "metadata": {},
   "source": [
    "## Dynamic Typing"
   ]
  },
  {
   "cell_type": "code",
   "execution_count": null,
   "id": "24",
   "metadata": {},
   "outputs": [],
   "source": [
    "# Variables can change types during execution\n",
    "var = 10\n",
    "print(f\"var = {var}, type: {type(var)}\")\n",
    "\n",
    "var = \"anusha\"\n",
    "print(f\"var = {var}, type: {type(var)}\")\n",
    "\n",
    "var = 3.45\n",
    "print(f\"var = {var}, type: {type(var)}\")\n",
    "\n",
    "var = True\n",
    "print(f\"var = {var}, type: {type(var)}\")"
   ]
  },
  {
   "cell_type": "markdown",
   "id": "25",
   "metadata": {},
   "source": [
    "## Input Function with Type Checking\n",
    "\n",
    "**Important:** The `input()` function always returns a string, regardless of what you type!"
   ]
  },
  {
   "cell_type": "code",
   "execution_count": 2,
   "id": "26",
   "metadata": {},
   "outputs": [
    {
     "name": "stdout",
     "output_type": "stream",
     "text": [
      "You entered: ''\n",
      "Type of input: <class 'str'>\n",
      "Is it a string? True\n"
     ]
    }
   ],
   "source": [
    "# This is the problematic line from your original code\n",
    "a = input(\"Enter a value: \")\n",
    "print(f\"You entered: '{a}'\")\n",
    "print(f\"Type of input: {type(a)}\")\n",
    "\n",
    "# Even if you enter a number, it's still a string!\n",
    "print(f\"Is it a string? {isinstance(a, str)}\")"
   ]
  },
  {
   "cell_type": "markdown",
   "id": "27",
   "metadata": {},
   "source": [
    "## Converting Input to Numbers"
   ]
  },
  {
   "cell_type": "code",
   "execution_count": null,
   "id": "28",
   "metadata": {},
   "outputs": [],
   "source": [
    "# Safe way to convert input to numbers\n",
    "user_input = input(\"Enter a number: \")\n",
    "print(f\"Raw input: '{user_input}', type: {type(user_input)}\")\n",
    "\n",
    "# Try to convert to integer\n",
    "try:\n",
    "    as_int = int(user_input)\n",
    "    print(f\"As integer: {as_int}, type: {type(as_int)}\")\n",
    "except ValueError:\n",
    "    print(\"Could not convert to integer\")\n",
    "\n",
    "# Try to convert to float\n",
    "try:\n",
    "    as_float = float(user_input)\n",
    "    print(f\"As float: {as_float}, type: {type(as_float)}\")\n",
    "except ValueError:\n",
    "    print(\"Could not convert to float\")"
   ]
  },
  {
   "cell_type": "markdown",
   "id": "29",
   "metadata": {},
   "source": [
    "## Summary\n",
    "\n",
    "Key points about the `input()` function:\n",
    "1. It always returns a **string**\n",
    "2. You need to convert it to other types if needed\n",
    "3. Use `int()`, `float()`, etc. for conversion\n",
    "4. Always handle potential conversion errors with try/except\n",
    "\n",
    "The input function should now work properly in this notebook!"
   ]
  }
 ],
 "metadata": {
  "kernelspec": {
   "display_name": "Python 3",
   "language": "python",
   "name": "python3"
  },
  "language_info": {
   "codemirror_mode": {
    "name": "ipython",
    "version": 3
   },
   "file_extension": ".py",
   "mimetype": "text/x-python",
   "name": "python",
   "nbconvert_exporter": "python",
   "pygments_lexer": "ipython3",
   "version": "3.12.0"
  }
 },
 "nbformat": 4,
 "nbformat_minor": 5
}
