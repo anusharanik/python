{
 "cells": [
  {
   "cell_type": "markdown",
   "id": "0ca4fd73",
   "metadata": {},
   "source": [
    "1. Temperature Conversion"
   ]
  },
  {
   "cell_type": "code",
   "execution_count": 1,
   "id": "1ebcc75b",
   "metadata": {},
   "outputs": [
    {
     "name": "stdout",
     "output_type": "stream",
     "text": [
      "77.0\n",
      "25.0\n"
     ]
    }
   ],
   "source": [
    "def convert_temperature(temp,unit):\n",
    "    \"\"\"Converting Celsius to Fahrenheit and Vice versa \"\"\"\n",
    "    if unit=='C':\n",
    "        return temp * 9/5+32 #C to F conversion\n",
    "    elif unit=='F':\n",
    "        return (temp-32)*5/9 # F to C conversion\n",
    "    else: \n",
    "        return None\n",
    "print(convert_temperature(25,'C'))\n",
    "print(convert_temperature(77,'F'))       "
   ]
  },
  {
   "cell_type": "markdown",
   "id": "318388ac",
   "metadata": {},
   "source": [
    "2. Password Strength Checker"
   ]
  },
  {
   "cell_type": "code",
   "execution_count": 6,
   "id": "a6396f00",
   "metadata": {},
   "outputs": [
    {
     "name": "stdout",
     "output_type": "stream",
     "text": [
      "False\n",
      "True\n",
      "True\n"
     ]
    }
   ],
   "source": [
    "def is_strong_password(password):\n",
    "    \"\"\"Function to check if the password is strong or not\"\"\"\n",
    "    if len(password)<8:\n",
    "        return False\n",
    "    if not any(char.isdigit() for char in password):\n",
    "        return False\n",
    "    if not any(char.islower() for char in password):\n",
    "        return False\n",
    "    if not any(char.isupper() for char in password):\n",
    "        return False\n",
    "    if not any(char in '!@#$%^&*()_+' for char in password):\n",
    "        return False\n",
    "\n",
    "    return True\n",
    "\n",
    "##Calling the function\n",
    "print(is_strong_password(\"Weakpassword\"))\n",
    "print(is_strong_password(\"Strong!3pwd\"))\n",
    "print(is_strong_password(\"Strong!   3pwd\"))            "
   ]
  },
  {
   "cell_type": "markdown",
   "id": "11e887f2",
   "metadata": {},
   "source": [
    "3. Calculate the total cost of items in a shopping cart"
   ]
  },
  {
   "cell_type": "code",
   "execution_count": null,
   "id": "abc74151",
   "metadata": {},
   "outputs": [
    {
     "name": "stdout",
     "output_type": "stream",
     "text": [
      "5.8999999999999995\n",
      "5.9\n"
     ]
    }
   ],
   "source": [
    "def calculate_total_cost(cart):\n",
    "    total_cost=0\n",
    "    for item in cart:\n",
    "        total_cost+=item['price']*item['quantity']\n",
    "    return total_cost    \n",
    "\n",
    "#Cart data    \n",
    "cart=[{'name':'apple','price':0.5,'quantity':4},\n",
    "      {'name':'banana','price':0.3,'quantity':6},\n",
    "      {'name':'orange','price':0.7,'quantity':3}\n",
    "\n",
    "]\n",
    "total_cost=calculate_total_cost(cart)\n",
    "print(total_cost)\n",
    "print(round(total_cost,2))\n"
   ]
  },
  {
   "cell_type": "markdown",
   "id": "4430dfed",
   "metadata": {},
   "source": [
    "3. Check if a string is palindrome"
   ]
  },
  {
   "cell_type": "code",
   "execution_count": null,
   "id": "2048b2c1",
   "metadata": {},
   "outputs": [
    {
     "name": "stdout",
     "output_type": "stream",
     "text": [
      "False\n",
      "True\n"
     ]
    }
   ],
   "source": [
    "##With a reversed string stored in a variable\n",
    "def is_palindrome(s):\n",
    "    s=s.lower().replace(\" \",\"\")\n",
    "    r=s[::-1]\n",
    "    return r==s\n",
    "print(is_palindrome(\"Hello\")) \n",
    "print(is_palindrome(\"A man a plan a canal panama\"))\n"
   ]
  },
  {
   "cell_type": "code",
   "execution_count": 6,
   "id": "bbdc3f1e",
   "metadata": {},
   "outputs": [
    {
     "name": "stdout",
     "output_type": "stream",
     "text": [
      "False\n",
      "True\n"
     ]
    }
   ],
   "source": [
    "##Without storing reversed string in a variable\n",
    "def is_palindrome(s):\n",
    "    s=s.lower().replace(\" \",\"\")\n",
    "    return s==s[::-1]\n",
    "   \n",
    "print(is_palindrome(\"Hello\")) \n",
    "print(is_palindrome(\"A man a plan a canal panama\"))\n"
   ]
  },
  {
   "cell_type": "markdown",
   "id": "1c9fb4da",
   "metadata": {},
   "source": [
    "5. Calculate the factorials of a number using recursion"
   ]
  },
  {
   "cell_type": "code",
   "execution_count": 7,
   "id": "f8efc079",
   "metadata": {},
   "outputs": [
    {
     "name": "stdout",
     "output_type": "stream",
     "text": [
      "720\n"
     ]
    }
   ],
   "source": [
    "def factorial(n):\n",
    "    if n==0:\n",
    "        return 1\n",
    "    else:\n",
    "        return n* factorial(n-1)\n",
    "    \n",
    "print(factorial(6))    "
   ]
  },
  {
   "cell_type": "markdown",
   "id": "c6051f15",
   "metadata": {},
   "source": [
    "6. A function to read a file and count the frequency of each word"
   ]
  },
  {
   "cell_type": "code",
   "execution_count": 2,
   "id": "7e9187ac",
   "metadata": {},
   "outputs": [
    {
     "name": "stdout",
     "output_type": "stream",
     "text": [
      "{'python': 6, 'is': 3, 'easy': 2, 'to': 1, 'learn': 1, 'powerful': 2, 'data': 1, 'science': 1, 'uses': 1, 'a': 1, 'lot': 1, 'machine': 1, 'learning': 2, 'with': 1, 'fun': 1, 'and': 1, 'can': 1, 'be': 1, 'if': 1, 'you': 1, 'practice': 1, 'every': 1, 'day': 1}\n"
     ]
    }
   ],
   "source": [
    "def count_word_frequency(file_path):\n",
    "    word_count={}\n",
    "    with open(file_path,'r')as file:\n",
    "        for line in file:\n",
    "            words=line.split()\n",
    "            for word in words:\n",
    "                word=word.lower().strip('.,!?;:\"\\'')\n",
    "                word_count[word]=word_count.get(word,0)+1\n",
    "    return word_count\n",
    "filepath='sample.txt' \n",
    "word_frequency=count_word_frequency(filepath)\n",
    "print(word_frequency)           "
   ]
  },
  {
   "cell_type": "markdown",
   "id": "78eecb51",
   "metadata": {},
   "source": [
    "7. Validate Email address"
   ]
  },
  {
   "cell_type": "code",
   "execution_count": 4,
   "id": "84a716df",
   "metadata": {},
   "outputs": [
    {
     "name": "stdout",
     "output_type": "stream",
     "text": [
      "True\n",
      "False\n"
     ]
    }
   ],
   "source": [
    "import re\n",
    "#Email validation function\n",
    "def is_valid_email(email):\n",
    "    \"\"\"this function checks if the email is valid.\"\"\"\n",
    "    pattern=r'^[a-zA-Z0-9_.+-]+@[a-zA-Z0-9-]+\\.[a-zA-Z0-9-.]+$'\n",
    "    return re.match(pattern,email) is not None\n",
    "\n",
    "#Calling the function\n",
    "print(is_valid_email(\"test@example.com\"))\n",
    "print(is_valid_email(\"invalid-email\"))"
   ]
  },
  {
   "cell_type": "code",
   "execution_count": null,
   "id": "db03fbb6",
   "metadata": {},
   "outputs": [],
   "source": []
  }
 ],
 "metadata": {
  "kernelspec": {
   "display_name": "Python 3",
   "language": "python",
   "name": "python3"
  },
  "language_info": {
   "codemirror_mode": {
    "name": "ipython",
    "version": 3
   },
   "file_extension": ".py",
   "mimetype": "text/x-python",
   "name": "python",
   "nbconvert_exporter": "python",
   "pygments_lexer": "ipython3",
   "version": "3.12.0"
  }
 },
 "nbformat": 4,
 "nbformat_minor": 5
}
