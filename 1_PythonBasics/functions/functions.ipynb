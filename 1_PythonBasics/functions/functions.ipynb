{
 "cells": [
  {
   "cell_type": "markdown",
   "id": "d9926b2f",
   "metadata": {},
   "source": [
    "Functions"
   ]
  },
  {
   "cell_type": "markdown",
   "id": "81e4c39e",
   "metadata": {},
   "source": [
    "def function_name(parameters):\n",
    "    \"\"\"Docstring\"\"\"\n",
    "    #Function body\n",
    "    return expression"
   ]
  },
  {
   "cell_type": "code",
   "execution_count": 1,
   "id": "263034e9",
   "metadata": {},
   "outputs": [
    {
     "name": "stdout",
     "output_type": "stream",
     "text": [
      "the number is even\n"
     ]
    }
   ],
   "source": [
    "##Why functions\n",
    "num=24\n",
    "if num%2==0:\n",
    "    print(\"the number is even\")\n",
    "\n",
    "else:\n",
    "    print(\"the number is odd\")    "
   ]
  },
  {
   "cell_type": "code",
   "execution_count": 2,
   "id": "723dcf20",
   "metadata": {},
   "outputs": [],
   "source": [
    "def print_even_or_odd(num):\n",
    "    \"\"\"this function is to check if a given number is even or odd and print\"\"\"\n",
    "    if num%2==0:\n",
    "        print(\"the number is even\")\n",
    "    else:\n",
    "        print(\"the number is odd\")"
   ]
  },
  {
   "cell_type": "code",
   "execution_count": 4,
   "id": "a4e983ff",
   "metadata": {},
   "outputs": [
    {
     "name": "stdout",
     "output_type": "stream",
     "text": [
      "the number is odd\n"
     ]
    }
   ],
   "source": [
    "## Call the above function\n",
    "print_even_or_odd(257)"
   ]
  },
  {
   "cell_type": "code",
   "execution_count": 5,
   "id": "9634ec74",
   "metadata": {},
   "outputs": [
    {
     "name": "stdout",
     "output_type": "stream",
     "text": [
      "28\n"
     ]
    }
   ],
   "source": [
    "## function with multiple parameters\n",
    "def add(a,b):\n",
    "    \"\"\"function to add two variables and returns the sum\"\"\"\n",
    "    return a+b\n",
    "result=add(24,4)\n",
    "print(result)"
   ]
  },
  {
   "cell_type": "code",
   "execution_count": 7,
   "id": "9694d6bf",
   "metadata": {},
   "outputs": [
    {
     "name": "stdout",
     "output_type": "stream",
     "text": [
      "Hello Anusha\n"
     ]
    }
   ],
   "source": [
    "##Default parameters\n",
    "def greet(name):\n",
    "    print(f\"Hello {name}\")\n",
    "\n",
    "greet(\"Anusha\")    "
   ]
  },
  {
   "cell_type": "code",
   "execution_count": 11,
   "id": "7ce51a6e",
   "metadata": {},
   "outputs": [
    {
     "name": "stdout",
     "output_type": "stream",
     "text": [
      "1\n",
      "2\n",
      "3\n",
      "4\n",
      "5\n",
      "6\n",
      "user\n"
     ]
    }
   ],
   "source": [
    "## Variable length arguments\n",
    "#Positional and keyword arguments\n",
    "\n",
    "def print_numbers(*args):\n",
    "    for arg in args:\n",
    "        print(arg)\n",
    "\n",
    "\n",
    "print_numbers(1,2,3,4,5,6,\"user\")\n"
   ]
  },
  {
   "cell_type": "code",
   "execution_count": 15,
   "id": "195a502b",
   "metadata": {},
   "outputs": [],
   "source": [
    "##Keyword arguments\n",
    "# All parameters are in the key value pair\n",
    "\n",
    "def print_details(**kwargs):\n",
    "    for key,value in kwargs.items():\n",
    "        print(f\"{key}:{value}\")\n",
    "    "
   ]
  },
  {
   "cell_type": "code",
   "execution_count": 16,
   "id": "dd40182b",
   "metadata": {},
   "outputs": [
    {
     "name": "stdout",
     "output_type": "stream",
     "text": [
      "name:Anusha\n",
      "age:32\n",
      "Country:Australia\n"
     ]
    }
   ],
   "source": [
    "print_details(name=\"Anusha\",age=32,Country=\"Australia\")"
   ]
  },
  {
   "cell_type": "code",
   "execution_count": 18,
   "id": "9827d054",
   "metadata": {},
   "outputs": [
    {
     "name": "stdout",
     "output_type": "stream",
     "text": [
      "Positional Argument: 1\n",
      "Positional Argument: 2\n",
      "Positional Argument: 3\n",
      "Positional Argument: 4\n",
      "Positional Argument: 5\n",
      "Positional Argument: 6\n",
      "Positional Argument: user\n",
      "Keyword argument name:Anusha\n",
      "Keyword argument age:32\n",
      "Keyword argument Country:Australia\n"
     ]
    }
   ],
   "source": [
    "def print_details(*args,**kwargs):\n",
    "    for arg in args:\n",
    "        print(f\"Positional Argument: {arg}\")\n",
    "    for key,value in kwargs.items():\n",
    "        print(f\"Keyword argument {key}:{value}\")  \n",
    "\n",
    "print_details(1,2,3,4,5,6,\"user\",name=\"Anusha\",age=32,Country=\"Australia\")"
   ]
  },
  {
   "cell_type": "code",
   "execution_count": null,
   "id": "1cabd257",
   "metadata": {},
   "outputs": [
    {
     "data": {
      "text/plain": [
       "8"
      ]
     },
     "execution_count": 19,
     "metadata": {},
     "output_type": "execute_result"
    }
   ],
   "source": [
    "#Return statement with single value\n",
    "def multiply(a,b):\n",
    "    return a*b\n",
    "\n",
    "multiply(2,4)"
   ]
  },
  {
   "cell_type": "code",
   "execution_count": 20,
   "id": "364948d8",
   "metadata": {},
   "outputs": [
    {
     "data": {
      "text/plain": [
       "(8, 2)"
      ]
     },
     "execution_count": 20,
     "metadata": {},
     "output_type": "execute_result"
    }
   ],
   "source": [
    "#return multiple parameters\n",
    "def multiply(a,b):\n",
    "    return a*b,a\n",
    "\n",
    "multiply(2,4)"
   ]
  }
 ],
 "metadata": {
  "kernelspec": {
   "display_name": "Python 3",
   "language": "python",
   "name": "python3"
  },
  "language_info": {
   "codemirror_mode": {
    "name": "ipython",
    "version": 3
   },
   "file_extension": ".py",
   "mimetype": "text/x-python",
   "name": "python",
   "nbconvert_exporter": "python",
   "pygments_lexer": "ipython3",
   "version": "3.12.0"
  }
 },
 "nbformat": 4,
 "nbformat_minor": 5
}
